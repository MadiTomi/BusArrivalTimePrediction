{
  "nbformat": 4,
  "nbformat_minor": 0,
  "metadata": {
    "colab": {
      "provenance": []
    },
    "kernelspec": {
      "name": "python3",
      "display_name": "Python 3"
    },
    "language_info": {
      "name": "python"
    }
  },
  "cells": [
    {
      "cell_type": "code",
      "execution_count": 1,
      "metadata": {
        "colab": {
          "base_uri": "https://localhost:8080/"
        },
        "id": "iDObXA84Ym42",
        "outputId": "2d7daee0-6ad5-42cc-e25a-ed676e9d27a7"
      },
      "outputs": [
        {
          "output_type": "stream",
          "name": "stdout",
          "text": [
            "Mounted at /content/drive\n"
          ]
        }
      ],
      "source": [
        "from google.colab import drive\n",
        "drive.mount('/content/drive')"
      ]
    },
    {
      "cell_type": "code",
      "source": [
        "import pandas as pd\n",
        "import matplotlib.pyplot as plt\n",
        "import seaborn as sns\n",
        "import numpy as np\n",
        "import tensorflow as tf\n",
        "import xgboost as xgb\n",
        "from tensorflow import keras\n",
        "from tensorflow.keras.models import Sequential\n",
        "from tensorflow.keras.layers import LSTM, Dense, Dropout\n",
        "from sklearn.preprocessing import MinMaxScaler\n",
        "from sklearn.model_selection import train_test_split\n",
        "from sklearn.ensemble import RandomForestRegressor\n",
        "from xgboost import XGBRegressor\n",
        "from sklearn.linear_model import LinearRegression\n",
        "from sklearn.metrics import mean_squared_error\n",
        "from sklearn.ensemble import GradientBoostingRegressor\n",
        "from tensorflow.keras.optimizers import Adam"
      ],
      "metadata": {
        "id": "RXVF0CenBKdm"
      },
      "execution_count": 2,
      "outputs": []
    },
    {
      "cell_type": "markdown",
      "source": [
        "**Part** **1**"
      ],
      "metadata": {
        "id": "kgn_zvOwRCiM"
      }
    },
    {
      "cell_type": "code",
      "source": [
        "# Load the dataset\n",
        "url = '/content/drive/MyDrive/Colab Notebooks/BUS_Data.csv'\n",
        "data = pd.read_csv(url)\n",
        "\n",
        "# Modify trip_id for better readability\n",
        "data['trip_id'] = data['trip_id'].apply(lambda x: f'route_{x[-6:]}')\n",
        "\n",
        "# Verify congestion categories and encode 'Degree_of_congestion'\n",
        "print(data['Degree_of_congestion'].unique())  # Check unique values\n",
        "\n",
        "# Encode 'Degree_of_congestion' into numerical values\n",
        "congestion_mapping = {\n",
        "    'Very smooth': 1,\n",
        "    'Smooth': 2,\n",
        "    'Mild congestion': 3,\n",
        "    'Heavy congestion': 4\n",
        "}\n",
        "data['congestion_level'] = data['Degree_of_congestion'].map(congestion_mapping)\n",
        "\n",
        "data.head()"
      ],
      "metadata": {
        "colab": {
          "base_uri": "https://localhost:8080/",
          "height": 223
        },
        "id": "K26ShfH3BKan",
        "outputId": "fb30df13-50e5-4c61-cee9-628b6d242089"
      },
      "execution_count": 3,
      "outputs": [
        {
          "output_type": "stream",
          "name": "stdout",
          "text": [
            "['Very smooth' 'Smooth' 'Heavy congestion' 'Mild congestion']\n"
          ]
        },
        {
          "output_type": "execute_result",
          "data": {
            "text/plain": [
              "   stop_id_from  stop_id_to       trip_id arrival_time      time      speed  \\\n",
              "0         36156       38709  route_0855_0     09:13:54  0.027222  14.479565   \n",
              "1         36156       38709  route_0845_0     09:03:01  0.032222  12.232736   \n",
              "2         36156       38709  route_0915_0     09:15:00  0.058333   6.757130   \n",
              "3         36156       38709  route_0905_0     09:05:00  0.033611  11.727251   \n",
              "4         36156       38709  route_0900_0     09:00:00  0.058333   6.757130   \n",
              "\n",
              "   Number_of_trips          SRI Degree_of_congestion  congestion_level  \n",
              "0              9.0  -0.40816322          Very smooth                 1  \n",
              "1              9.0    1.2068965               Smooth                 2  \n",
              "2              9.0     5.142857     Heavy congestion                 4  \n",
              "3              9.0     1.570248               Smooth                 2  \n",
              "4              9.0     5.142857     Heavy congestion                 4  "
            ],
            "text/html": [
              "\n",
              "  <div id=\"df-05e3cb60-05c1-4fa0-a32d-ddc8913d8218\" class=\"colab-df-container\">\n",
              "    <div>\n",
              "<style scoped>\n",
              "    .dataframe tbody tr th:only-of-type {\n",
              "        vertical-align: middle;\n",
              "    }\n",
              "\n",
              "    .dataframe tbody tr th {\n",
              "        vertical-align: top;\n",
              "    }\n",
              "\n",
              "    .dataframe thead th {\n",
              "        text-align: right;\n",
              "    }\n",
              "</style>\n",
              "<table border=\"1\" class=\"dataframe\">\n",
              "  <thead>\n",
              "    <tr style=\"text-align: right;\">\n",
              "      <th></th>\n",
              "      <th>stop_id_from</th>\n",
              "      <th>stop_id_to</th>\n",
              "      <th>trip_id</th>\n",
              "      <th>arrival_time</th>\n",
              "      <th>time</th>\n",
              "      <th>speed</th>\n",
              "      <th>Number_of_trips</th>\n",
              "      <th>SRI</th>\n",
              "      <th>Degree_of_congestion</th>\n",
              "      <th>congestion_level</th>\n",
              "    </tr>\n",
              "  </thead>\n",
              "  <tbody>\n",
              "    <tr>\n",
              "      <th>0</th>\n",
              "      <td>36156</td>\n",
              "      <td>38709</td>\n",
              "      <td>route_0855_0</td>\n",
              "      <td>09:13:54</td>\n",
              "      <td>0.027222</td>\n",
              "      <td>14.479565</td>\n",
              "      <td>9.0</td>\n",
              "      <td>-0.40816322</td>\n",
              "      <td>Very smooth</td>\n",
              "      <td>1</td>\n",
              "    </tr>\n",
              "    <tr>\n",
              "      <th>1</th>\n",
              "      <td>36156</td>\n",
              "      <td>38709</td>\n",
              "      <td>route_0845_0</td>\n",
              "      <td>09:03:01</td>\n",
              "      <td>0.032222</td>\n",
              "      <td>12.232736</td>\n",
              "      <td>9.0</td>\n",
              "      <td>1.2068965</td>\n",
              "      <td>Smooth</td>\n",
              "      <td>2</td>\n",
              "    </tr>\n",
              "    <tr>\n",
              "      <th>2</th>\n",
              "      <td>36156</td>\n",
              "      <td>38709</td>\n",
              "      <td>route_0915_0</td>\n",
              "      <td>09:15:00</td>\n",
              "      <td>0.058333</td>\n",
              "      <td>6.757130</td>\n",
              "      <td>9.0</td>\n",
              "      <td>5.142857</td>\n",
              "      <td>Heavy congestion</td>\n",
              "      <td>4</td>\n",
              "    </tr>\n",
              "    <tr>\n",
              "      <th>3</th>\n",
              "      <td>36156</td>\n",
              "      <td>38709</td>\n",
              "      <td>route_0905_0</td>\n",
              "      <td>09:05:00</td>\n",
              "      <td>0.033611</td>\n",
              "      <td>11.727251</td>\n",
              "      <td>9.0</td>\n",
              "      <td>1.570248</td>\n",
              "      <td>Smooth</td>\n",
              "      <td>2</td>\n",
              "    </tr>\n",
              "    <tr>\n",
              "      <th>4</th>\n",
              "      <td>36156</td>\n",
              "      <td>38709</td>\n",
              "      <td>route_0900_0</td>\n",
              "      <td>09:00:00</td>\n",
              "      <td>0.058333</td>\n",
              "      <td>6.757130</td>\n",
              "      <td>9.0</td>\n",
              "      <td>5.142857</td>\n",
              "      <td>Heavy congestion</td>\n",
              "      <td>4</td>\n",
              "    </tr>\n",
              "  </tbody>\n",
              "</table>\n",
              "</div>\n",
              "    <div class=\"colab-df-buttons\">\n",
              "\n",
              "  <div class=\"colab-df-container\">\n",
              "    <button class=\"colab-df-convert\" onclick=\"convertToInteractive('df-05e3cb60-05c1-4fa0-a32d-ddc8913d8218')\"\n",
              "            title=\"Convert this dataframe to an interactive table.\"\n",
              "            style=\"display:none;\">\n",
              "\n",
              "  <svg xmlns=\"http://www.w3.org/2000/svg\" height=\"24px\" viewBox=\"0 -960 960 960\">\n",
              "    <path d=\"M120-120v-720h720v720H120Zm60-500h600v-160H180v160Zm220 220h160v-160H400v160Zm0 220h160v-160H400v160ZM180-400h160v-160H180v160Zm440 0h160v-160H620v160ZM180-180h160v-160H180v160Zm440 0h160v-160H620v160Z\"/>\n",
              "  </svg>\n",
              "    </button>\n",
              "\n",
              "  <style>\n",
              "    .colab-df-container {\n",
              "      display:flex;\n",
              "      gap: 12px;\n",
              "    }\n",
              "\n",
              "    .colab-df-convert {\n",
              "      background-color: #E8F0FE;\n",
              "      border: none;\n",
              "      border-radius: 50%;\n",
              "      cursor: pointer;\n",
              "      display: none;\n",
              "      fill: #1967D2;\n",
              "      height: 32px;\n",
              "      padding: 0 0 0 0;\n",
              "      width: 32px;\n",
              "    }\n",
              "\n",
              "    .colab-df-convert:hover {\n",
              "      background-color: #E2EBFA;\n",
              "      box-shadow: 0px 1px 2px rgba(60, 64, 67, 0.3), 0px 1px 3px 1px rgba(60, 64, 67, 0.15);\n",
              "      fill: #174EA6;\n",
              "    }\n",
              "\n",
              "    .colab-df-buttons div {\n",
              "      margin-bottom: 4px;\n",
              "    }\n",
              "\n",
              "    [theme=dark] .colab-df-convert {\n",
              "      background-color: #3B4455;\n",
              "      fill: #D2E3FC;\n",
              "    }\n",
              "\n",
              "    [theme=dark] .colab-df-convert:hover {\n",
              "      background-color: #434B5C;\n",
              "      box-shadow: 0px 1px 3px 1px rgba(0, 0, 0, 0.15);\n",
              "      filter: drop-shadow(0px 1px 2px rgba(0, 0, 0, 0.3));\n",
              "      fill: #FFFFFF;\n",
              "    }\n",
              "  </style>\n",
              "\n",
              "    <script>\n",
              "      const buttonEl =\n",
              "        document.querySelector('#df-05e3cb60-05c1-4fa0-a32d-ddc8913d8218 button.colab-df-convert');\n",
              "      buttonEl.style.display =\n",
              "        google.colab.kernel.accessAllowed ? 'block' : 'none';\n",
              "\n",
              "      async function convertToInteractive(key) {\n",
              "        const element = document.querySelector('#df-05e3cb60-05c1-4fa0-a32d-ddc8913d8218');\n",
              "        const dataTable =\n",
              "          await google.colab.kernel.invokeFunction('convertToInteractive',\n",
              "                                                    [key], {});\n",
              "        if (!dataTable) return;\n",
              "\n",
              "        const docLinkHtml = 'Like what you see? Visit the ' +\n",
              "          '<a target=\"_blank\" href=https://colab.research.google.com/notebooks/data_table.ipynb>data table notebook</a>'\n",
              "          + ' to learn more about interactive tables.';\n",
              "        element.innerHTML = '';\n",
              "        dataTable['output_type'] = 'display_data';\n",
              "        await google.colab.output.renderOutput(dataTable, element);\n",
              "        const docLink = document.createElement('div');\n",
              "        docLink.innerHTML = docLinkHtml;\n",
              "        element.appendChild(docLink);\n",
              "      }\n",
              "    </script>\n",
              "  </div>\n",
              "\n",
              "\n",
              "<div id=\"df-95234564-813b-4be7-bde5-294b466fe11e\">\n",
              "  <button class=\"colab-df-quickchart\" onclick=\"quickchart('df-95234564-813b-4be7-bde5-294b466fe11e')\"\n",
              "            title=\"Suggest charts\"\n",
              "            style=\"display:none;\">\n",
              "\n",
              "<svg xmlns=\"http://www.w3.org/2000/svg\" height=\"24px\"viewBox=\"0 0 24 24\"\n",
              "     width=\"24px\">\n",
              "    <g>\n",
              "        <path d=\"M19 3H5c-1.1 0-2 .9-2 2v14c0 1.1.9 2 2 2h14c1.1 0 2-.9 2-2V5c0-1.1-.9-2-2-2zM9 17H7v-7h2v7zm4 0h-2V7h2v10zm4 0h-2v-4h2v4z\"/>\n",
              "    </g>\n",
              "</svg>\n",
              "  </button>\n",
              "\n",
              "<style>\n",
              "  .colab-df-quickchart {\n",
              "      --bg-color: #E8F0FE;\n",
              "      --fill-color: #1967D2;\n",
              "      --hover-bg-color: #E2EBFA;\n",
              "      --hover-fill-color: #174EA6;\n",
              "      --disabled-fill-color: #AAA;\n",
              "      --disabled-bg-color: #DDD;\n",
              "  }\n",
              "\n",
              "  [theme=dark] .colab-df-quickchart {\n",
              "      --bg-color: #3B4455;\n",
              "      --fill-color: #D2E3FC;\n",
              "      --hover-bg-color: #434B5C;\n",
              "      --hover-fill-color: #FFFFFF;\n",
              "      --disabled-bg-color: #3B4455;\n",
              "      --disabled-fill-color: #666;\n",
              "  }\n",
              "\n",
              "  .colab-df-quickchart {\n",
              "    background-color: var(--bg-color);\n",
              "    border: none;\n",
              "    border-radius: 50%;\n",
              "    cursor: pointer;\n",
              "    display: none;\n",
              "    fill: var(--fill-color);\n",
              "    height: 32px;\n",
              "    padding: 0;\n",
              "    width: 32px;\n",
              "  }\n",
              "\n",
              "  .colab-df-quickchart:hover {\n",
              "    background-color: var(--hover-bg-color);\n",
              "    box-shadow: 0 1px 2px rgba(60, 64, 67, 0.3), 0 1px 3px 1px rgba(60, 64, 67, 0.15);\n",
              "    fill: var(--button-hover-fill-color);\n",
              "  }\n",
              "\n",
              "  .colab-df-quickchart-complete:disabled,\n",
              "  .colab-df-quickchart-complete:disabled:hover {\n",
              "    background-color: var(--disabled-bg-color);\n",
              "    fill: var(--disabled-fill-color);\n",
              "    box-shadow: none;\n",
              "  }\n",
              "\n",
              "  .colab-df-spinner {\n",
              "    border: 2px solid var(--fill-color);\n",
              "    border-color: transparent;\n",
              "    border-bottom-color: var(--fill-color);\n",
              "    animation:\n",
              "      spin 1s steps(1) infinite;\n",
              "  }\n",
              "\n",
              "  @keyframes spin {\n",
              "    0% {\n",
              "      border-color: transparent;\n",
              "      border-bottom-color: var(--fill-color);\n",
              "      border-left-color: var(--fill-color);\n",
              "    }\n",
              "    20% {\n",
              "      border-color: transparent;\n",
              "      border-left-color: var(--fill-color);\n",
              "      border-top-color: var(--fill-color);\n",
              "    }\n",
              "    30% {\n",
              "      border-color: transparent;\n",
              "      border-left-color: var(--fill-color);\n",
              "      border-top-color: var(--fill-color);\n",
              "      border-right-color: var(--fill-color);\n",
              "    }\n",
              "    40% {\n",
              "      border-color: transparent;\n",
              "      border-right-color: var(--fill-color);\n",
              "      border-top-color: var(--fill-color);\n",
              "    }\n",
              "    60% {\n",
              "      border-color: transparent;\n",
              "      border-right-color: var(--fill-color);\n",
              "    }\n",
              "    80% {\n",
              "      border-color: transparent;\n",
              "      border-right-color: var(--fill-color);\n",
              "      border-bottom-color: var(--fill-color);\n",
              "    }\n",
              "    90% {\n",
              "      border-color: transparent;\n",
              "      border-bottom-color: var(--fill-color);\n",
              "    }\n",
              "  }\n",
              "</style>\n",
              "\n",
              "  <script>\n",
              "    async function quickchart(key) {\n",
              "      const quickchartButtonEl =\n",
              "        document.querySelector('#' + key + ' button');\n",
              "      quickchartButtonEl.disabled = true;  // To prevent multiple clicks.\n",
              "      quickchartButtonEl.classList.add('colab-df-spinner');\n",
              "      try {\n",
              "        const charts = await google.colab.kernel.invokeFunction(\n",
              "            'suggestCharts', [key], {});\n",
              "      } catch (error) {\n",
              "        console.error('Error during call to suggestCharts:', error);\n",
              "      }\n",
              "      quickchartButtonEl.classList.remove('colab-df-spinner');\n",
              "      quickchartButtonEl.classList.add('colab-df-quickchart-complete');\n",
              "    }\n",
              "    (() => {\n",
              "      let quickchartButtonEl =\n",
              "        document.querySelector('#df-95234564-813b-4be7-bde5-294b466fe11e button');\n",
              "      quickchartButtonEl.style.display =\n",
              "        google.colab.kernel.accessAllowed ? 'block' : 'none';\n",
              "    })();\n",
              "  </script>\n",
              "</div>\n",
              "\n",
              "    </div>\n",
              "  </div>\n"
            ],
            "application/vnd.google.colaboratory.intrinsic+json": {
              "type": "dataframe",
              "variable_name": "data",
              "repr_error": "Out of range float values are not JSON compliant: inf"
            }
          },
          "metadata": {},
          "execution_count": 3
        }
      ]
    },
    {
      "cell_type": "code",
      "source": [
        "# Convert arrival_time\n",
        "data['arrival_time'] = pd.to_datetime(data['arrival_time'], format='%H:%M:%S')\n",
        "\n",
        "# Extract hour and minute for Time of Day analysis\n",
        "data['arrival_hour'] = data['arrival_time'].dt.hour\n",
        "data['arrival_minute'] = data['arrival_time'].dt.minute"
      ],
      "metadata": {
        "id": "OmhGPru8KKFS"
      },
      "execution_count": null,
      "outputs": []
    },
    {
      "cell_type": "code",
      "source": [
        "# Handle infinite values in 'speed'\n",
        "data.replace([np.inf, -np.inf], np.nan, inplace=True)\n",
        "\n",
        "# Fill NaN values in speed with median\n",
        "data['speed'].fillna(data['speed'].median(), inplace=True)"
      ],
      "metadata": {
        "colab": {
          "base_uri": "https://localhost:8080/"
        },
        "id": "KAWum12tJ4d_",
        "outputId": "44670a54-e028-483f-f70a-4a57ebc51d1a"
      },
      "execution_count": null,
      "outputs": [
        {
          "output_type": "stream",
          "name": "stderr",
          "text": [
            "<ipython-input-10-edcd767a7e4c>:5: FutureWarning: A value is trying to be set on a copy of a DataFrame or Series through chained assignment using an inplace method.\n",
            "The behavior will change in pandas 3.0. This inplace method will never work because the intermediate object on which we are setting values always behaves as a copy.\n",
            "\n",
            "For example, when doing 'df[col].method(value, inplace=True)', try using 'df.method({col: value}, inplace=True)' or df[col] = df[col].method(value) instead, to perform the operation inplace on the original object.\n",
            "\n",
            "\n",
            "  data['speed'].fillna(data['speed'].median(), inplace=True)\n"
          ]
        }
      ]
    },
    {
      "cell_type": "code",
      "source": [
        "# Handle missing values\n",
        "data.dropna(inplace=True)\n",
        "\n",
        "# Descriptive statistics\n",
        "print(data.describe())"
      ],
      "metadata": {
        "colab": {
          "base_uri": "https://localhost:8080/"
        },
        "id": "sRSaM6JNJ4R5",
        "outputId": "bf74e28b-1c50-4fcd-dc2c-dbd8d05a6a71"
      },
      "execution_count": null,
      "outputs": [
        {
          "output_type": "stream",
          "name": "stdout",
          "text": [
            "       stop_id_from    stop_id_to                   arrival_time  \\\n",
            "count  66546.000000  66546.000000                          66546   \n",
            "mean   33067.236243  33094.052355  1900-01-01 14:03:35.780903424   \n",
            "min      386.000000    386.000000            1900-01-01 09:00:00   \n",
            "25%    33492.000000  33492.000000            1900-01-01 14:03:16   \n",
            "50%    38784.000000  38784.000000            1900-01-01 14:28:24   \n",
            "75%    39281.000000  39283.000000            1900-01-01 14:53:06   \n",
            "max    40516.000000  40516.000000            1900-01-01 18:19:35   \n",
            "std    11908.262442  11873.438387                            NaN   \n",
            "\n",
            "               time         speed  Number_of_trips  congestion_level  \\\n",
            "count  66546.000000  66546.000000     66546.000000      66546.000000   \n",
            "mean       0.019432     41.462082        16.628182          2.119286   \n",
            "min        0.000000      0.000000         1.000000          1.000000   \n",
            "25%        0.009167     21.689701         4.000000          1.000000   \n",
            "50%        0.015000     31.437924         9.000000          2.000000   \n",
            "75%        0.024167     41.355535        24.000000          3.000000   \n",
            "max        0.718889   6545.531033       141.000000          4.000000   \n",
            "std        0.018134    103.301720        18.906968          1.007844   \n",
            "\n",
            "       arrival_hour  arrival_minute  \n",
            "count  66546.000000    66546.000000  \n",
            "mean      13.711207       20.450410  \n",
            "min        9.000000        0.000000  \n",
            "25%       14.000000        7.000000  \n",
            "50%       14.000000       15.000000  \n",
            "75%       14.000000       33.000000  \n",
            "max       18.000000       59.000000  \n",
            "std        2.905810       16.661183  \n"
          ]
        }
      ]
    },
    {
      "cell_type": "code",
      "source": [
        "plt.figure(figsize=(12, 6))\n",
        "sns.histplot(data['arrival_hour'], bins=24, kde=True)\n",
        "plt.title('Histogram of Bus Arrival Times')\n",
        "plt.xlabel('Hour of the Day')\n",
        "plt.ylabel('Frequency')\n",
        "plt.xticks(range(8, 19))\n",
        "plt.grid()\n",
        "plt.show()"
      ],
      "metadata": {
        "colab": {
          "base_uri": "https://localhost:8080/",
          "height": 564
        },
        "id": "LFH_eniRBKYl",
        "outputId": "ff0cef44-047c-4b44-c7d8-7e29f58d1150"
      },
      "execution_count": null,
      "outputs": [
        {
          "output_type": "display_data",
          "data": {
            "text/plain": [
              "<Figure size 1200x600 with 1 Axes>"
            ],
            "image/png": "[encoded data removed]"
          },
          "metadata": {}
        }
      ]
    },
    {
      "cell_type": "code",
      "source": [
        "# Pairplot to visualize arrival_hour vs congestion level\n",
        "sns.pairplot(data[['arrival_hour', 'congestion_level']], diag_kind='kde')\n",
        "plt.show()"
      ],
      "metadata": {
        "colab": {
          "base_uri": "https://localhost:8080/",
          "height": 513
        },
        "id": "4A5zPelGK_5_",
        "outputId": "e20a9f1a-491d-4c40-ec7c-d742cd6998c8"
      },
      "execution_count": null,
      "outputs": [
        {
          "output_type": "display_data",
          "data": {
            "text/plain": [
              "<Figure size 500x500 with 6 Axes>"
            ],
            "image/png": "[encoded data removed]"
          },
          "metadata": {}
        }
      ]
    },
    {
      "cell_type": "markdown",
      "source": [
        "**Part** **2**"
      ],
      "metadata": {
        "id": "bK4nmGWmQxvb"
      }
    },
    {
      "cell_type": "code",
      "source": [
        "# Sorting by trip and stop sequence\n",
        "data.sort_values(by=['trip_id', 'arrival_time'], inplace=True)\n",
        "\n",
        "# Generate 'prev_arrival_time' and compute 'delay'\n",
        "data['prev_arrival_time'] = data.groupby('trip_id')['arrival_time'].shift(1)\n",
        "data['delay'] = (data['arrival_time'] - data['prev_arrival_time']).dt.total_seconds()\n",
        "\n",
        "# Handling missing values\n",
        "data.dropna(subset=['delay'], inplace=True)"
      ],
      "metadata": {
        "id": "VG5cPp6AJ9Vq"
      },
      "execution_count": null,
      "outputs": []
    },
    {
      "cell_type": "code",
      "source": [
        "# Feature Engineering: Extract time-based features\n",
        "data['is_peak'] = data['arrival_hour'].apply(lambda x: 1 if 7 <= x <= 9 or 13 <= x <= 15 or 16 <= x <= 19 else 0)\n",
        "\n",
        "# Select features\n",
        "features = ['stop_id_from', 'stop_id_to', 'arrival_hour', 'is_peak', 'congestion_level']\n",
        "X = data[features]\n",
        "y = data['delay']\n",
        "\n",
        "# Split data\n",
        "X_train, X_test, y_train, y_test = train_test_split(X, y, test_size=0.2, random_state=42)\n",
        "\n",
        "# Model 1: Random Forest\n",
        "rf = RandomForestRegressor(n_estimators=100, random_state=42)\n",
        "rf.fit(X_train, y_train)\n",
        "y_pred_rf = rf.predict(X_test)\n",
        "rmse_rf = np.sqrt(mean_squared_error(y_test, y_pred_rf))\n",
        "\n",
        "# Model 2: XGBoost\n",
        "xgb_model = xgb.XGBRegressor(n_estimators=100, learning_rate=0.1, random_state=42)\n",
        "xgb_model.fit(X_train, y_train)\n",
        "y_pred_xgb = xgb_model.predict(X_test)\n",
        "rmse_xgb = np.sqrt(mean_squared_error(y_test, y_pred_xgb))\n",
        "\n",
        "# Model 3: LSTM\n",
        "X_train_lstm = np.expand_dims(X_train.values, axis=1)\n",
        "X_test_lstm = np.expand_dims(X_test.values, axis=1)\n",
        "\n",
        "model = Sequential([\n",
        "    LSTM(50, activation='relu', return_sequences=True, input_shape=(1, X_train.shape[1])),\n",
        "    Dropout(0.2),\n",
        "    LSTM(50, activation='relu'),\n",
        "    Dense(1)\n",
        "])\n",
        "\n",
        "model.compile(optimizer='adam', loss='mse')\n",
        "model.fit(X_train_lstm, y_train, epochs=20, batch_size=32, verbose=1)\n",
        "\n",
        "y_pred_lstm = model.predict(X_test_lstm)\n",
        "rmse_lstm = np.sqrt(mean_squared_error(y_test, y_pred_lstm))\n"
      ],
      "metadata": {
        "colab": {
          "base_uri": "https://localhost:8080/"
        },
        "id": "-9GE8lblBKWQ",
        "outputId": "8d44cae2-2789-4afe-8973-5d38f0dac107"
      },
      "execution_count": null,
      "outputs": [
        {
          "output_type": "stream",
          "name": "stdout",
          "text": [
            "Epoch 1/20\n"
          ]
        },
        {
          "output_type": "stream",
          "name": "stderr",
          "text": [
            "/usr/local/lib/python3.11/dist-packages/keras/src/layers/rnn/rnn.py:200: UserWarning: Do not pass an `input_shape`/`input_dim` argument to a layer. When using Sequential models, prefer using an `Input(shape)` object as the first layer in the model instead.\n",
            "  super().__init__(**kwargs)\n"
          ]
        },
        {
          "output_type": "stream",
          "name": "stdout",
          "text": [
            "\u001b[1m1661/1661\u001b[0m \u001b[32m━━━━━━━━━━━━━━━━━━━━\u001b[0m\u001b[37m\u001b[0m \u001b[1m9s\u001b[0m 4ms/step - loss: 12382.4912\n",
            "Epoch 2/20\n",
            "\u001b[1m1661/1661\u001b[0m \u001b[32m━━━━━━━━━━━━━━━━━━━━\u001b[0m\u001b[37m\u001b[0m \u001b[1m10s\u001b[0m 3ms/step - loss: 5798.3652\n",
            "Epoch 3/20\n",
            "\u001b[1m1661/1661\u001b[0m \u001b[32m━━━━━━━━━━━━━━━━━━━━\u001b[0m\u001b[37m\u001b[0m \u001b[1m7s\u001b[0m 4ms/step - loss: 11631.1582\n",
            "Epoch 4/20\n",
            "\u001b[1m1661/1661\u001b[0m \u001b[32m━━━━━━━━━━━━━━━━━━━━\u001b[0m\u001b[37m\u001b[0m \u001b[1m6s\u001b[0m 3ms/step - loss: 12820.8203\n",
            "Epoch 5/20\n",
            "\u001b[1m1661/1661\u001b[0m \u001b[32m━━━━━━━━━━━━━━━━━━━━\u001b[0m\u001b[37m\u001b[0m \u001b[1m11s\u001b[0m 4ms/step - loss: 7060.7666\n",
            "Epoch 6/20\n",
            "\u001b[1m1661/1661\u001b[0m \u001b[32m━━━━━━━━━━━━━━━━━━━━\u001b[0m\u001b[37m\u001b[0m \u001b[1m11s\u001b[0m 4ms/step - loss: 12882.6982\n",
            "Epoch 7/20\n",
            "\u001b[1m1661/1661\u001b[0m \u001b[32m━━━━━━━━━━━━━━━━━━━━\u001b[0m\u001b[37m\u001b[0m \u001b[1m9s\u001b[0m 4ms/step - loss: 22052.6484\n",
            "Epoch 8/20\n",
            "\u001b[1m1661/1661\u001b[0m \u001b[32m━━━━━━━━━━━━━━━━━━━━\u001b[0m\u001b[37m\u001b[0m \u001b[1m11s\u001b[0m 5ms/step - loss: 4493.0117\n",
            "Epoch 9/20\n",
            "\u001b[1m1661/1661\u001b[0m \u001b[32m━━━━━━━━━━━━━━━━━━━━\u001b[0m\u001b[37m\u001b[0m \u001b[1m7s\u001b[0m 4ms/step - loss: 17801.5195\n",
            "Epoch 10/20\n",
            "\u001b[1m1661/1661\u001b[0m \u001b[32m━━━━━━━━━━━━━━━━━━━━\u001b[0m\u001b[37m\u001b[0m \u001b[1m6s\u001b[0m 4ms/step - loss: 18025.7539\n",
            "Epoch 11/20\n",
            "\u001b[1m1661/1661\u001b[0m \u001b[32m━━━━━━━━━━━━━━━━━━━━\u001b[0m\u001b[37m\u001b[0m \u001b[1m8s\u001b[0m 5ms/step - loss: 9851.9883\n",
            "Epoch 12/20\n",
            "\u001b[1m1661/1661\u001b[0m \u001b[32m━━━━━━━━━━━━━━━━━━━━\u001b[0m\u001b[37m\u001b[0m \u001b[1m8s\u001b[0m 3ms/step - loss: 14598.5811\n",
            "Epoch 13/20\n",
            "\u001b[1m1661/1661\u001b[0m \u001b[32m━━━━━━━━━━━━━━━━━━━━\u001b[0m\u001b[37m\u001b[0m \u001b[1m7s\u001b[0m 4ms/step - loss: 3461.4302\n",
            "Epoch 14/20\n",
            "\u001b[1m1661/1661\u001b[0m \u001b[32m━━━━━━━━━━━━━━━━━━━━\u001b[0m\u001b[37m\u001b[0m \u001b[1m6s\u001b[0m 3ms/step - loss: 14696.5771\n",
            "Epoch 15/20\n",
            "\u001b[1m1661/1661\u001b[0m \u001b[32m━━━━━━━━━━━━━━━━━━━━\u001b[0m\u001b[37m\u001b[0m \u001b[1m7s\u001b[0m 4ms/step - loss: 22864.7969\n",
            "Epoch 16/20\n",
            "\u001b[1m1661/1661\u001b[0m \u001b[32m━━━━━━━━━━━━━━━━━━━━\u001b[0m\u001b[37m\u001b[0m \u001b[1m9s\u001b[0m 4ms/step - loss: 9098.8018\n",
            "Epoch 17/20\n",
            "\u001b[1m1661/1661\u001b[0m \u001b[32m━━━━━━━━━━━━━━━━━━━━\u001b[0m\u001b[37m\u001b[0m \u001b[1m7s\u001b[0m 4ms/step - loss: 13307.4590\n",
            "Epoch 18/20\n",
            "\u001b[1m1661/1661\u001b[0m \u001b[32m━━━━━━━━━━━━━━━━━━━━\u001b[0m\u001b[37m\u001b[0m \u001b[1m11s\u001b[0m 5ms/step - loss: 10716.1855\n",
            "Epoch 19/20\n",
            "\u001b[1m1661/1661\u001b[0m \u001b[32m━━━━━━━━━━━━━━━━━━━━\u001b[0m\u001b[37m\u001b[0m \u001b[1m6s\u001b[0m 4ms/step - loss: 4612.1582\n",
            "Epoch 20/20\n",
            "\u001b[1m1661/1661\u001b[0m \u001b[32m━━━━━━━━━━━━━━━━━━━━\u001b[0m\u001b[37m\u001b[0m \u001b[1m7s\u001b[0m 4ms/step - loss: 19203.1211\n",
            "\u001b[1m416/416\u001b[0m \u001b[32m━━━━━━━━━━━━━━━━━━━━\u001b[0m\u001b[37m\u001b[0m \u001b[1m1s\u001b[0m 2ms/step\n"
          ]
        }
      ]
    },
    {
      "cell_type": "code",
      "source": [
        "# Print Results\n",
        "print(f\"Random Forest RMSE: {rmse_rf:.2f}\")\n",
        "print(f\"XGBoost RMSE: {rmse_xgb:.2f}\")\n",
        "print(f\"LSTM RMSE: {rmse_lstm:.2f}\")"
      ],
      "metadata": {
        "colab": {
          "base_uri": "https://localhost:8080/"
        },
        "id": "QxDdkOE-BKUQ",
        "outputId": "69c580d5-17e0-4cad-9721-7b63fd712e93"
      },
      "execution_count": null,
      "outputs": [
        {
          "output_type": "stream",
          "name": "stdout",
          "text": [
            "Random Forest RMSE: 58.59\n",
            "XGBoost RMSE: 59.58\n",
            "LSTM RMSE: 13.00\n"
          ]
        }
      ]
    },
    {
      "cell_type": "code",
      "source": [
        "# DataFrame for RMSE values\n",
        "rmse_values = {\n",
        "    'Model': ['Random Forest', 'XGBoost', 'LSTM'],\n",
        "    'RMSE': [rmse_rf, rmse_xgb, rmse_lstm]\n",
        "}\n",
        "rmse_df = pd.DataFrame(rmse_values)\n",
        "\n",
        "# Heatmap\n",
        "plt.figure(figsize=(8, 4))\n",
        "sns.heatmap(rmse_df.set_index('Model'), annot=True, cmap='viridis', fmt='.2f', cbar=True)\n",
        "plt.title('RMSE Comparison Across Models')\n",
        "plt.show()"
      ],
      "metadata": {
        "colab": {
          "base_uri": "https://localhost:8080/",
          "height": 391
        },
        "id": "zwlYxkp7BKR5",
        "outputId": "518b3f4b-e5e9-4044-a569-15052b49d907"
      },
      "execution_count": null,
      "outputs": [
        {
          "output_type": "display_data",
          "data": {
            "text/plain": [
              "<Figure size 800x400 with 2 Axes>"
            ],
            "image/png": "[encoded data removed]"
          },
          "metadata": {}
        }
      ]
    },
    {
      "cell_type": "code",
      "source": [],
      "metadata": {
        "id": "WDy4dq1mQFdt"
      },
      "execution_count": null,
      "outputs": []
    }
  ]
}